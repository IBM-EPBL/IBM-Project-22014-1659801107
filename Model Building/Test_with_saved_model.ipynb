{
 "cells": [
  {
   "cell_type": "code",
   "execution_count": 5,
   "id": "10a47420",
   "metadata": {},
   "outputs": [],
   "source": [
    "from tensorflow.keras.models import load_model"
   ]
  },
  {
   "cell_type": "code",
   "execution_count": 8,
   "id": "3af98067",
   "metadata": {},
   "outputs": [],
   "source": [
    "model=load_model('D:\\IBM - final project')"
   ]
  },
  {
   "cell_type": "code",
   "execution_count": 9,
   "id": "25ecbb84",
   "metadata": {},
   "outputs": [],
   "source": [
    "from PIL import Image"
   ]
  },
  {
   "cell_type": "code",
   "execution_count": null,
   "id": "12a50b16",
   "metadata": {},
   "outputs": [],
   "source": [
    "import numpy as np\n",
    "for index in range(4):\n",
    "    img=Image.open('data/'+str(index)+'.png').convert(\"L\")\n",
    "    img=img.resize((28,28))\n",
    "    im2arr=np.array(img)\n",
    "    im2arr=im2arr.reshape(1,28,28,1)\n",
    "    y_pred=model.predict(im2arr)\n",
    "    print(y_pred)"
   ]
  }
 ],
 "metadata": {
  "kernelspec": {
   "display_name": "Python 3 (ipykernel)",
   "language": "python",
   "name": "python3"
  },
  "language_info": {
   "codemirror_mode": {
    "name": "ipython",
    "version": 3
   },
   "file_extension": ".py",
   "mimetype": "text/x-python",
   "name": "python",
   "nbconvert_exporter": "python",
   "pygments_lexer": "ipython3",
   "version": "3.9.7"
  }
 },
 "nbformat": 4,
 "nbformat_minor": 5
}
